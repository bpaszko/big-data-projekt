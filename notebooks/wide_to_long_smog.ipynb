{
 "cells": [
  {
   "cell_type": "code",
   "execution_count": 14,
   "metadata": {},
   "outputs": [],
   "source": [
    "import sys\n",
    "import os\n",
    "import shutil\n",
    "import numpy as np\n",
    "import pandas as pd"
   ]
  },
  {
   "cell_type": "code",
   "execution_count": 15,
   "metadata": {},
   "outputs": [],
   "source": [
    "pm10_filename = \"PM10.csv\"\n",
    "pm25_filename = \"PM25.csv\"\n",
    "\n",
    "smog_data_path = os.path.join(\"..\", \"data\", \"smog\")\n",
    "smog_history_path = os.path.join(smog_data_path, \"history\")\n",
    "pm10_path = os.path.join(smog_data_path, \"pm10_history\")\n",
    "pm25_path = os.path.join(smog_data_path, \"pm25_history\")\n",
    "\n",
    "os.makedirs(pm10_path, exist_ok=True)\n",
    "os.makedirs(pm25_path, exist_ok=True)\n",
    "\n",
    "for root, dirs, files in os.walk(smog_history_path):\n",
    "    for name in dirs:\n",
    "        dir = os.path.join(root, name)\n",
    "\n",
    "        pm10_file = os.path.join(dir, pm10_filename)\n",
    "        shutil.copy(pm10_file, pm10_path)\n",
    "        os.rename(os.path.join(pm10_path, pm10_filename), os.path.join(pm10_path, f\"{name}_{pm10_filename}\"))\n",
    "\n",
    "        pm25_file = os.path.join(dir, pm25_filename)\n",
    "        shutil.copy(pm25_file, pm25_path)\n",
    "        os.rename(os.path.join(pm25_path, pm25_filename), os.path.join(pm25_path, f\"{name}_{pm25_filename}\"))"
   ]
  },
  {
   "cell_type": "markdown",
   "metadata": {},
   "source": [
    "---"
   ]
  },
  {
   "cell_type": "code",
   "execution_count": 16,
   "metadata": {},
   "outputs": [],
   "source": [
    "pm10_path = os.path.join(\"..\", \"data\", \"smog\", \"pm10_history\")\n",
    "pm25_path = os.path.join(\"..\", \"data\", \"smog\", \"pm25_history\")\n",
    "smog_history_path = os.path.join(\"..\", \"data\", \"smog\", \"smog_history\")\n",
    "\n",
    "os.makedirs(smog_history_path, exist_ok=True)"
   ]
  },
  {
   "cell_type": "code",
   "execution_count": 17,
   "metadata": {},
   "outputs": [],
   "source": [
    "def convert_smog_history_data_frame(df):\n",
    "    l = pd.DataFrame(columns=[\"dt\", \"stacja\", \"wartosc\"])\n",
    "    temp = pd.DataFrame(columns=[\"dt\", \"stacja\", \"wartosc\"])\n",
    "    temp[\"dt\"] = df[\"Date\"]\n",
    "    columns = list(df.columns)\n",
    "    columns.remove(\"Date\")\n",
    "    for column in columns:\n",
    "        temp[\"stacja\"] = column\n",
    "        temp[\"wartosc\"] = df[column]\n",
    "        temp = temp.dropna()\n",
    "        l = l.append(temp, ignore_index=True)\n",
    "    l[\"dt\"] = pd.to_datetime(l[\"dt\"])\n",
    "    l[\"wartosc\"] = pd.to_numeric(l[\"wartosc\"].astype(str).apply(lambda x: x.replace(',','.')), downcast='float')\n",
    "    return l"
   ]
  },
  {
   "cell_type": "code",
   "execution_count": 18,
   "metadata": {},
   "outputs": [],
   "source": [
    "def convert_smog_history_files_in_path(path, nazwa_pomiaru):\n",
    "    csv_files = [f for f in os.listdir(path) if os.path.isfile(os.path.join(path, f)) and f.endswith(\".csv\")]\n",
    "    for file in csv_files:\n",
    "        df = pd.read_csv(os.path.join(path, file))\n",
    "        new_df = convert_smog_history_data_frame(df)\n",
    "        new_df[\"pomiar\"] = nazwa_pomiaru\n",
    "        new_df.to_csv(os.path.join(smog_history_path, file), index=False, header=False)\n",
    "        \n",
    "        print(\"{} converted\".format(file))"
   ]
  },
  {
   "cell_type": "code",
   "execution_count": 19,
   "metadata": {},
   "outputs": [
    {
     "name": "stdout",
     "output_type": "stream",
     "text": [
      "2010_PM10.csv converted\n",
      "2011_PM10.csv converted\n",
      "2012_PM10.csv converted\n",
      "2013_PM10.csv converted\n",
      "2014_PM10.csv converted\n",
      "2015_PM10.csv converted\n"
     ]
    },
    {
     "name": "stderr",
     "output_type": "stream",
     "text": [
      "c:\\program files\\python37\\lib\\site-packages\\IPython\\core\\interactiveshell.py:3220: DtypeWarning: Columns (18,21,68,69,98) have mixed types. Specify dtype option on import or set low_memory=False.\n",
      "  if (yield from self.run_code(code, result)):\n"
     ]
    },
    {
     "name": "stdout",
     "output_type": "stream",
     "text": [
      "2016_PM10.csv converted\n"
     ]
    },
    {
     "name": "stderr",
     "output_type": "stream",
     "text": [
      "c:\\program files\\python37\\lib\\site-packages\\IPython\\core\\interactiveshell.py:3220: DtypeWarning: Columns (24,75) have mixed types. Specify dtype option on import or set low_memory=False.\n",
      "  if (yield from self.run_code(code, result)):\n"
     ]
    },
    {
     "name": "stdout",
     "output_type": "stream",
     "text": [
      "2017_PM10.csv converted\n"
     ]
    }
   ],
   "source": [
    "convert_smog_history_files_in_path(pm10_path, \"PM10\")"
   ]
  },
  {
   "cell_type": "code",
   "execution_count": 20,
   "metadata": {},
   "outputs": [
    {
     "name": "stdout",
     "output_type": "stream",
     "text": [
      "2010_PM25.csv converted\n",
      "2011_PM25.csv converted\n",
      "2012_PM25.csv converted\n",
      "2013_PM25.csv converted\n",
      "2014_PM25.csv converted\n",
      "2015_PM25.csv converted\n",
      "2016_PM25.csv converted\n",
      "2017_PM25.csv converted\n"
     ]
    }
   ],
   "source": [
    "convert_smog_history_files_in_path(pm25_path, \"PM2.5\")"
   ]
  },
  {
   "cell_type": "code",
   "execution_count": null,
   "metadata": {},
   "outputs": [],
   "source": []
  }
 ],
 "metadata": {
  "kernelspec": {
   "display_name": "Python 3",
   "language": "python",
   "name": "python3"
  },
  "language_info": {
   "codemirror_mode": {
    "name": "ipython",
    "version": 3
   },
   "file_extension": ".py",
   "mimetype": "text/x-python",
   "name": "python",
   "nbconvert_exporter": "python",
   "pygments_lexer": "ipython3",
   "version": "3.7.2"
  }
 },
 "nbformat": 4,
 "nbformat_minor": 2
}
